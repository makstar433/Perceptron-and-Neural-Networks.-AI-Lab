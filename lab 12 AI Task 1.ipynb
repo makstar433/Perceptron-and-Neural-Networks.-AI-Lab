{
 "cells": [
  {
   "cell_type": "code",
   "execution_count": 1,
   "id": "0f52b2d7",
   "metadata": {},
   "outputs": [],
   "source": [
    "import numpy as np\n",
    "# sigmoid function\n",
    "def nonlin (x, deriv = False ):\n",
    "    if( deriv == True ):\n",
    "        return x*(1 -x)\n",
    "    return 1/(1+ np. exp(-x))\n",
    "# input dataset\n",
    "X = np. array ([ [0 ,0 ,1], [0 ,1 ,1],[1 ,0 ,1] , [1 ,1 ,1] ])"
   ]
  },
  {
   "cell_type": "code",
   "execution_count": 3,
   "id": "5827240e",
   "metadata": {},
   "outputs": [
    {
     "name": "stdout",
     "output_type": "stream",
     "text": [
      " Output After Training : \n",
      "[[0.00966449]\n",
      " [0.00786506]\n",
      " [0.99358898]\n",
      " [0.99211957]]\n"
     ]
    }
   ],
   "source": [
    "# output dataset\n",
    "y = np. array ([[0 ,0 ,1 ,1]]).T\n",
    "\n",
    "# seed random numbers to make calcul.ation deterministic ( just a good practice )\n",
    "np. random . seed (1)\n",
    "\n",
    "# initialize weights randomly with mean 0\n",
    "syn0 = 2* np. random . random ((3 ,1) ) - 1\n",
    "\n",
    "for iter in range (10000):\n",
    "    # forward propagation\n",
    "    l0 = X\n",
    "    l1 = nonlin (np. dot(l0 , syn0 ))\n",
    "    \n",
    "    # how much did we miss ?\n",
    "    l1_error = y - l1\n",
    "    \n",
    "    # multiply how much we missed by the slope of the sigmoid at the values in l1\n",
    "    l1_delta = l1_error * nonlin (l1 , True )\n",
    "    \n",
    "    # update weights\n",
    "    syn0 += np. dot(l0.T, l1_delta )\n",
    "\n",
    "print(\" Output After Training : \")\n",
    "print(l1)"
   ]
  },
  {
   "cell_type": "code",
   "execution_count": 4,
   "id": "c9d0cb21",
   "metadata": {},
   "outputs": [
    {
     "name": "stdout",
     "output_type": "stream",
     "text": [
      "Accuracy: 0.7532467532467533\n",
      "              precision    recall  f1-score   support\n",
      "\n",
      "           0       0.81      0.80      0.81        99\n",
      "           1       0.65      0.67      0.66        55\n",
      "\n",
      "    accuracy                           0.75       154\n",
      "   macro avg       0.73      0.74      0.73       154\n",
      "weighted avg       0.76      0.75      0.75       154\n",
      "\n"
     ]
    }
   ],
   "source": [
    "import pandas as pd\n",
    "from sklearn.model_selection import train_test_split\n",
    "from sklearn.linear_model import LogisticRegression\n",
    "from sklearn.preprocessing import StandardScaler\n",
    "from sklearn.metrics import accuracy_score, classification_report\n",
    "\n",
    "# Load the dataset\n",
    "df = pd.read_csv(R'C:\\Users\\pc\\Downloads\\diabetes.csv')\n",
    "\n",
    "# Extract features and target variable\n",
    "X = df.iloc[:, :-1].values\n",
    "y = df.iloc[:, -1].values\n",
    "\n",
    "# Split the data into training and testing sets\n",
    "X_train, X_test, y_train, y_test = train_test_split(X, y, test_size=0.2, random_state=42)\n",
    "\n",
    "# Scale the input features\n",
    "scaler = StandardScaler()\n",
    "X_train_scaled = scaler.fit_transform(X_train)\n",
    "X_test_scaled = scaler.transform(X_test)\n",
    "\n",
    "# Create a Logistic Regression model with increased max_iter\n",
    "model = LogisticRegression(max_iter=1000)\n",
    "\n",
    "# Train the model on the scaled data\n",
    "model.fit(X_train_scaled, y_train)\n",
    "\n",
    "# Make predictions on the test set\n",
    "y_pred = model.predict(X_test_scaled)\n",
    "\n",
    "# Calculate accuracy\n",
    "accuracy = accuracy_score(y_test, y_pred)\n",
    "print(\"Accuracy:\", accuracy)\n",
    "\n",
    "# Print classification report\n",
    "print(classification_report(y_test, y_pred))\n"
   ]
  },
  {
   "cell_type": "code",
   "execution_count": null,
   "id": "9a26f437",
   "metadata": {},
   "outputs": [],
   "source": []
  }
 ],
 "metadata": {
  "kernelspec": {
   "display_name": "Python 3 (ipykernel)",
   "language": "python",
   "name": "python3"
  },
  "language_info": {
   "codemirror_mode": {
    "name": "ipython",
    "version": 3
   },
   "file_extension": ".py",
   "mimetype": "text/x-python",
   "name": "python",
   "nbconvert_exporter": "python",
   "pygments_lexer": "ipython3",
   "version": "3.9.13"
  }
 },
 "nbformat": 4,
 "nbformat_minor": 5
}
